{
 "cells": [
  {
   "cell_type": "code",
   "execution_count": 1,
   "metadata": {
    "collapsed": true
   },
   "outputs": [],
   "source": [
    "# imports \n",
    "import numpy as np\n",
    "import pandas as pd \n",
    "import matplotlib.pyplot as plt\n",
    "%matplotlib inline\n",
    "import os \n",
    "\n",
    "porn_df = pd.read_csv('../data/xhamster.csv') # load Sexualitics raw csv\n",
    "youtube_df = pd.DataFrame() # initialize empty df\n",
    "for filename in os.listdir('../data/youtube'): \n",
    "    if filename != '.DS_Store':\n",
    "        current_df = pd.read_csv('../data/youtube/%s' %filename)\n",
    "        youtube_df = pd.concat([youtube_df,current_df], ignore_index=True)"
   ]
  },
  {
   "cell_type": "code",
   "execution_count": 2,
   "metadata": {
    "collapsed": true
   },
   "outputs": [],
   "source": [
    "# add porn column and remove extra headings\n",
    "\n",
    "youtube_df[\"isPorn\"] = pd.Series()\n",
    "youtube_df=youtube_df.fillna(0)\n",
    "youTubeTitles = youtube_df.loc[:, [\"title\", \"isPorn\"]]\n"
   ]
  },
  {
   "cell_type": "code",
   "execution_count": 3,
   "metadata": {
    "collapsed": true
   },
   "outputs": [],
   "source": [
    "porn_df[\"isPorn\"] = pd.Series()\n",
    "porn_df=porn_df.fillna(1)\n",
    "pornTitles = porn_df.loc[:, [\"title\", \"isPorn\"]]"
   ]
  },
  {
   "cell_type": "code",
   "execution_count": 4,
   "metadata": {
    "collapsed": true
   },
   "outputs": [],
   "source": [
    "#merge datasets\n",
    "merged_data = youTubeTitles.append(pornTitles, ignore_index=True)\n",
    "title_matrix= merged_data.loc[:,[\"title\"]]\n",
    "target_array=merged_data.loc[:, [\"isPorn\"]]"
   ]
  },
  {
   "cell_type": "code",
   "execution_count": 6,
   "metadata": {
    "collapsed": false
   },
   "outputs": [
    {
     "name": "stdout",
     "output_type": "stream",
     "text": [
      "KFold(n_splits=10, random_state=None, shuffle=True)\n"
     ]
    }
   ],
   "source": [
    "#folding datasets for training\n",
    "from sklearn.model_selection import KFold\n",
    "kf = KFold(n_splits = 10, shuffle=True)\n",
    "kf.get_n_splits(merged_data)\n",
    "print kf"
   ]
  },
  {
   "cell_type": "code",
   "execution_count": 46,
   "metadata": {
    "collapsed": true
   },
   "outputs": [],
   "source": [
    "import numpy\n",
    "from keras.models import Sequential\n",
    "from keras.layers import Dense\n",
    "from keras.layers import LSTM\n",
    "from keras.layers.embeddings import Embedding\n",
    "from keras.preprocessing import sequence\n",
    "from keras.layers import Activation, Dropout"
   ]
  },
  {
   "cell_type": "code",
   "execution_count": 8,
   "metadata": {
    "collapsed": false
   },
   "outputs": [
    {
     "name": "stdout",
     "output_type": "stream",
     "text": [
      "786121\n",
      "785329\n",
      "792\n"
     ]
    }
   ],
   "source": [
    "pornarray = pornTitles.values\n",
    "not_empty = pornTitles.values[:,0] != 1\n",
    "full_pornarray = pornarray[not_empty]\n",
    "print len(pornarray)\n",
    "print len(full_pornarray)\n",
    "print len(pornarray) - len(full_pornarray)"
   ]
  },
  {
   "cell_type": "code",
   "execution_count": 91,
   "metadata": {
    "collapsed": false
   },
   "outputs": [
    {
     "name": "stdout",
     "output_type": "stream",
     "text": [
      "        isPorn\n",
      "0          0.0\n",
      "1          0.0\n",
      "2          0.0\n",
      "3          0.0\n",
      "4          0.0\n",
      "5          0.0\n",
      "6          0.0\n",
      "7          0.0\n",
      "8          0.0\n",
      "9          0.0\n",
      "10         0.0\n",
      "11         0.0\n",
      "12         0.0\n",
      "13         0.0\n",
      "14         0.0\n",
      "15         0.0\n",
      "16         0.0\n",
      "17         0.0\n",
      "18         0.0\n",
      "19         0.0\n",
      "20         0.0\n",
      "21         0.0\n",
      "22         0.0\n",
      "23         0.0\n",
      "24         0.0\n",
      "25         0.0\n",
      "26         0.0\n",
      "27         0.0\n",
      "28         0.0\n",
      "29         0.0\n",
      "...        ...\n",
      "928594     1.0\n",
      "928595     1.0\n",
      "928596     1.0\n",
      "928597     1.0\n",
      "928598     1.0\n",
      "928599     1.0\n",
      "928600     1.0\n",
      "928601     1.0\n",
      "928602     1.0\n",
      "928603     1.0\n",
      "928604     1.0\n",
      "928605     1.0\n",
      "928606     1.0\n",
      "928607     1.0\n",
      "928608     1.0\n",
      "928609     1.0\n",
      "928610     1.0\n",
      "928611     1.0\n",
      "928612     1.0\n",
      "928613     1.0\n",
      "928614     1.0\n",
      "928615     1.0\n",
      "928616     1.0\n",
      "928617     1.0\n",
      "928618     1.0\n",
      "928619     1.0\n",
      "928620     1.0\n",
      "928621     1.0\n",
      "928622     1.0\n",
      "928623     1.0\n",
      "\n",
      "[928624 rows x 1 columns]\n",
      "_________________________________________________________________\n",
      "Layer (type)                 Output Shape              Param #   \n",
      "=================================================================\n",
      "embedding_2 (Embedding)      (None, None, 32)          29715968  \n",
      "_________________________________________________________________\n",
      "lstm_2 (LSTM)                (None, 100)               53200     \n",
      "_________________________________________________________________\n",
      "dense_2 (Dense)              (None, 1)                 101       \n",
      "=================================================================\n",
      "Total params: 29,769,269\n",
      "Trainable params: 29,769,269\n",
      "Non-trainable params: 0\n",
      "_________________________________________________________________\n",
      "None\n",
      "Epoch 1/3\n"
     ]
    },
    {
     "ename": "ValueError",
     "evalue": "could not convert string to float: jeg leger",
     "output_type": "error",
     "traceback": [
      "\u001b[1;31m---------------------------------------------------------------------------\u001b[0m",
      "\u001b[1;31mValueError\u001b[0m                                Traceback (most recent call last)",
      "\u001b[1;32m<ipython-input-91-55283c9aabfd>\u001b[0m in \u001b[0;36m<module>\u001b[1;34m()\u001b[0m\n\u001b[0;32m     24\u001b[0m     \u001b[0mmodel\u001b[0m\u001b[1;33m.\u001b[0m\u001b[0mcompile\u001b[0m\u001b[1;33m(\u001b[0m\u001b[0mloss\u001b[0m\u001b[1;33m=\u001b[0m\u001b[1;34m'binary_crossentropy'\u001b[0m\u001b[1;33m,\u001b[0m \u001b[0moptimizer\u001b[0m\u001b[1;33m=\u001b[0m\u001b[1;34m'adam'\u001b[0m\u001b[1;33m,\u001b[0m \u001b[0mmetrics\u001b[0m\u001b[1;33m=\u001b[0m\u001b[1;33m[\u001b[0m\u001b[1;34m'accuracy'\u001b[0m\u001b[1;33m]\u001b[0m\u001b[1;33m)\u001b[0m\u001b[1;33m\u001b[0m\u001b[0m\n\u001b[0;32m     25\u001b[0m     \u001b[1;32mprint\u001b[0m\u001b[1;33m(\u001b[0m\u001b[0mmodel\u001b[0m\u001b[1;33m.\u001b[0m\u001b[0msummary\u001b[0m\u001b[1;33m(\u001b[0m\u001b[1;33m)\u001b[0m\u001b[1;33m)\u001b[0m\u001b[1;33m\u001b[0m\u001b[0m\n\u001b[1;32m---> 26\u001b[1;33m     \u001b[0mmodel\u001b[0m\u001b[1;33m.\u001b[0m\u001b[0mfit\u001b[0m\u001b[1;33m(\u001b[0m\u001b[0mX_train\u001b[0m\u001b[1;33m,\u001b[0m \u001b[0my_train\u001b[0m\u001b[1;33m,\u001b[0m \u001b[0mnb_epoch\u001b[0m\u001b[1;33m=\u001b[0m\u001b[1;36m3\u001b[0m\u001b[1;33m,\u001b[0m \u001b[0mbatch_size\u001b[0m\u001b[1;33m=\u001b[0m\u001b[1;36m64\u001b[0m\u001b[1;33m)\u001b[0m\u001b[1;33m\u001b[0m\u001b[0m\n\u001b[0m\u001b[0;32m     27\u001b[0m \u001b[1;33m\u001b[0m\u001b[0m\n\u001b[0;32m     28\u001b[0m     \u001b[1;31m# Final evaluation of the model\u001b[0m\u001b[1;33m\u001b[0m\u001b[1;33m\u001b[0m\u001b[0m\n",
      "\u001b[1;32mC:\\Users\\samhelen\\Anaconda2\\lib\\site-packages\\keras\\models.pyc\u001b[0m in \u001b[0;36mfit\u001b[1;34m(self, x, y, batch_size, epochs, verbose, callbacks, validation_split, validation_data, shuffle, class_weight, sample_weight, initial_epoch, steps_per_epoch, validation_steps, **kwargs)\u001b[0m\n\u001b[0;32m   1000\u001b[0m                               \u001b[0minitial_epoch\u001b[0m\u001b[1;33m=\u001b[0m\u001b[0minitial_epoch\u001b[0m\u001b[1;33m,\u001b[0m\u001b[1;33m\u001b[0m\u001b[0m\n\u001b[0;32m   1001\u001b[0m                               \u001b[0msteps_per_epoch\u001b[0m\u001b[1;33m=\u001b[0m\u001b[0msteps_per_epoch\u001b[0m\u001b[1;33m,\u001b[0m\u001b[1;33m\u001b[0m\u001b[0m\n\u001b[1;32m-> 1002\u001b[1;33m                               validation_steps=validation_steps)\n\u001b[0m\u001b[0;32m   1003\u001b[0m \u001b[1;33m\u001b[0m\u001b[0m\n\u001b[0;32m   1004\u001b[0m     def evaluate(self, x=None, y=None,\n",
      "\u001b[1;32mC:\\Users\\samhelen\\Anaconda2\\lib\\site-packages\\keras\\engine\\training.pyc\u001b[0m in \u001b[0;36mfit\u001b[1;34m(self, x, y, batch_size, epochs, verbose, callbacks, validation_split, validation_data, shuffle, class_weight, sample_weight, initial_epoch, steps_per_epoch, validation_steps, **kwargs)\u001b[0m\n\u001b[0;32m   1703\u001b[0m                               \u001b[0minitial_epoch\u001b[0m\u001b[1;33m=\u001b[0m\u001b[0minitial_epoch\u001b[0m\u001b[1;33m,\u001b[0m\u001b[1;33m\u001b[0m\u001b[0m\n\u001b[0;32m   1704\u001b[0m                               \u001b[0msteps_per_epoch\u001b[0m\u001b[1;33m=\u001b[0m\u001b[0msteps_per_epoch\u001b[0m\u001b[1;33m,\u001b[0m\u001b[1;33m\u001b[0m\u001b[0m\n\u001b[1;32m-> 1705\u001b[1;33m                               validation_steps=validation_steps)\n\u001b[0m\u001b[0;32m   1706\u001b[0m \u001b[1;33m\u001b[0m\u001b[0m\n\u001b[0;32m   1707\u001b[0m     def evaluate(self, x=None, y=None,\n",
      "\u001b[1;32mC:\\Users\\samhelen\\Anaconda2\\lib\\site-packages\\keras\\engine\\training.pyc\u001b[0m in \u001b[0;36m_fit_loop\u001b[1;34m(self, f, ins, out_labels, batch_size, epochs, verbose, callbacks, val_f, val_ins, shuffle, callback_metrics, initial_epoch, steps_per_epoch, validation_steps)\u001b[0m\n\u001b[0;32m   1234\u001b[0m                         \u001b[0mins_batch\u001b[0m\u001b[1;33m[\u001b[0m\u001b[0mi\u001b[0m\u001b[1;33m]\u001b[0m \u001b[1;33m=\u001b[0m \u001b[0mins_batch\u001b[0m\u001b[1;33m[\u001b[0m\u001b[0mi\u001b[0m\u001b[1;33m]\u001b[0m\u001b[1;33m.\u001b[0m\u001b[0mtoarray\u001b[0m\u001b[1;33m(\u001b[0m\u001b[1;33m)\u001b[0m\u001b[1;33m\u001b[0m\u001b[0m\n\u001b[0;32m   1235\u001b[0m \u001b[1;33m\u001b[0m\u001b[0m\n\u001b[1;32m-> 1236\u001b[1;33m                     \u001b[0mouts\u001b[0m \u001b[1;33m=\u001b[0m \u001b[0mf\u001b[0m\u001b[1;33m(\u001b[0m\u001b[0mins_batch\u001b[0m\u001b[1;33m)\u001b[0m\u001b[1;33m\u001b[0m\u001b[0m\n\u001b[0m\u001b[0;32m   1237\u001b[0m                     \u001b[1;32mif\u001b[0m \u001b[1;32mnot\u001b[0m \u001b[0misinstance\u001b[0m\u001b[1;33m(\u001b[0m\u001b[0mouts\u001b[0m\u001b[1;33m,\u001b[0m \u001b[0mlist\u001b[0m\u001b[1;33m)\u001b[0m\u001b[1;33m:\u001b[0m\u001b[1;33m\u001b[0m\u001b[0m\n\u001b[0;32m   1238\u001b[0m                         \u001b[0mouts\u001b[0m \u001b[1;33m=\u001b[0m \u001b[1;33m[\u001b[0m\u001b[0mouts\u001b[0m\u001b[1;33m]\u001b[0m\u001b[1;33m\u001b[0m\u001b[0m\n",
      "\u001b[1;32mC:\\Users\\samhelen\\Anaconda2\\lib\\site-packages\\keras\\backend\\cntk_backend.pyc\u001b[0m in \u001b[0;36m__call__\u001b[1;34m(self, inputs)\u001b[0m\n\u001b[0;32m   1879\u001b[0m                \u001b[0mvalue\u001b[0m\u001b[1;33m.\u001b[0m\u001b[0mdtype\u001b[0m \u001b[1;33m!=\u001b[0m \u001b[0mnp\u001b[0m\u001b[1;33m.\u001b[0m\u001b[0mfloat32\u001b[0m \u001b[1;32mand\u001b[0m\u001b[1;33m\u001b[0m\u001b[0m\n\u001b[0;32m   1880\u001b[0m                value.dtype != np.float64):\n\u001b[1;32m-> 1881\u001b[1;33m                 \u001b[0mvalue\u001b[0m \u001b[1;33m=\u001b[0m \u001b[0mvalue\u001b[0m\u001b[1;33m.\u001b[0m\u001b[0mastype\u001b[0m\u001b[1;33m(\u001b[0m\u001b[0mnp\u001b[0m\u001b[1;33m.\u001b[0m\u001b[0mfloat32\u001b[0m\u001b[1;33m)\u001b[0m\u001b[1;33m\u001b[0m\u001b[0m\n\u001b[0m\u001b[0;32m   1882\u001b[0m \u001b[1;33m\u001b[0m\u001b[0m\n\u001b[0;32m   1883\u001b[0m             \u001b[1;32mif\u001b[0m \u001b[0mtensor\u001b[0m \u001b[1;33m==\u001b[0m \u001b[0m_LEARNING_PHASE_PLACEHOLDER\u001b[0m\u001b[1;33m:\u001b[0m\u001b[1;33m\u001b[0m\u001b[0m\n",
      "\u001b[1;31mValueError\u001b[0m: could not convert string to float: jeg leger"
     ]
    }
   ],
   "source": [
    "for train_index, test_index in kf.split(title_matrix):\n",
    "    \n",
    "    #Folding steps\n",
    "    start_train= train_index[0]\n",
    "    end_train=train_index[-1]\n",
    "    start_test=test_index[0]\n",
    "    end_test=test_index[-1]\n",
    "    #print \"TRAIN:\", train_index, \"TEST\", test_index\n",
    "    X_train, X_test = title_matrix.loc[start_train:end_train], title_matrix.loc[start_test:end_test]\n",
    "    y_train, y_test = target_array.loc[start_train:end_train], target_array.loc[start_test:end_test]\n",
    "    print y_train\n",
    "    \n",
    "    \n",
    "    # fix random seed for reproducibility\n",
    "    numpy.random.seed(7)\n",
    "\n",
    "    # create the model\n",
    "    total_length=len(X_train) #this needs to be the length of the dictionary we use to encode the titles\n",
    "    embedding_vecor_length = 32\n",
    "    model = Sequential()\n",
    "    model.add(Embedding(total_length, embedding_vecor_length, input_length=None))\n",
    "    model.add(LSTM(100))\n",
    "    model.add(Dense(1, activation='sigmoid'))\n",
    "    model.compile(loss='binary_crossentropy', optimizer='adam', metrics=['accuracy'])\n",
    "    print(model.summary())\n",
    "    model.fit(X_train, y_train, nb_epoch=3, batch_size=64)\n",
    "\n",
    "    # Final evaluation of the model\n",
    "    scores = model.evaluate(X_test, y_test, verbose=0)\n",
    "    print(\"Accuracy: %.2f%%\" % (scores[1]*100))\n",
    "\n",
    "    \n",
    "    #RNN model above\n"
   ]
  },
  {
   "cell_type": "code",
   "execution_count": 10,
   "metadata": {
    "collapsed": false
   },
   "outputs": [
    {
     "name": "stdout",
     "output_type": "stream",
     "text": [
      "set(['specialchar', '!', ' ', '#', '\"', '%', '$', \"'\", '&', ')', '(', '+', '*', '-', ',', '/', '.', '1', '0', '3', '2', '5', '4', '7', '6', '9', '8', ';', ':', '=', '<', '?', '>', '@', 'END', '[', ']', '\\\\', '_', '^', 'a', '`', 'c', 'b', 'e', 'd', 'g', 'f', 'i', 'h', 'k', 'j', 'm', 'l', 'o', 'n', 'q', 'p', 's', 'r', 'u', 't', 'w', 'v', 'y', 'x', '{', 'z', '}', '|', '~'])\n",
      "71\n"
     ]
    }
   ],
   "source": [
    "import string\n",
    "\n",
    "vocab = [x for x in string.ascii_lowercase] + [x for x in string.punctuation] + [x for x in string.digits]\n",
    "vocab.append(' ')\n",
    "vocab.append('END')\n",
    "vocab.append('specialchar')\n",
    "vocab = set(vocab)\n",
    "#vocab.append(string.punctuation)\n",
    "#vocab.append(string.digits)\n",
    "print vocab\n",
    "print len(vocab)"
   ]
  },
  {
   "cell_type": "code",
   "execution_count": 11,
   "metadata": {
    "collapsed": false
   },
   "outputs": [
    {
     "name": "stdout",
     "output_type": "stream",
     "text": [
      "{'specialchar': 0, '!': 1, ' ': 2, '#': 3, '\"': 4, '%': 5, '$': 6, \"'\": 7, '&': 8, ')': 9, '(': 10, '+': 11, '*': 12, '-': 13, ',': 14, '/': 15, '.': 16, '1': 17, '0': 18, '3': 19, '2': 20, '5': 21, '4': 22, '7': 23, '6': 24, '9': 25, '8': 26, ';': 27, ':': 28, '=': 29, '<': 30, '?': 31, '>': 32, '@': 33, 'END': 34, '[': 35, ']': 36, '\\\\': 37, '_': 38, '^': 39, 'a': 40, '`': 41, 'c': 42, 'b': 43, 'e': 44, 'd': 45, 'g': 46, 'f': 47, 'i': 48, 'h': 49, 'k': 50, 'j': 51, 'm': 52, 'l': 53, 'o': 54, 'n': 55, 'q': 56, 'p': 57, 's': 58, 'r': 59, 'u': 60, 't': 61, 'w': 62, 'v': 63, 'y': 64, 'x': 65, '{': 66, 'z': 67, '}': 68, '|': 69, '~': 70}\n"
     ]
    }
   ],
   "source": [
    "# vocab is 70\n",
    "# create character index\n",
    "\n",
    "char_index = dict((c, i) for i, c in enumerate(vocab))\n",
    "print char_index"
   ]
  },
  {
   "cell_type": "code",
   "execution_count": 12,
   "metadata": {
    "collapsed": false
   },
   "outputs": [
    {
     "data": {
      "text/plain": [
       "array([['Eminem - Walk On Water (Audio) ft. Beyonc\\xc3\\xa9', 0.0],\n",
       "       ['PLUSH - Bad Unboxing Fan Mail', 0.0],\n",
       "       ['Racist Superman | Rudy Mancuso, King Bach & Lele Pons', 0.0],\n",
       "       ...,\n",
       "       ['Dancing Furry Ball!', 0.0],\n",
       "       ['Kacey Musgraves - High Horse (Lyric Video)', 0.0],\n",
       "       ['First footage of deep-sea anglerfish pair', 0.0]], dtype=object)"
      ]
     },
     "execution_count": 12,
     "metadata": {},
     "output_type": "execute_result"
    }
   ],
   "source": [
    "youTubearray = youTubeTitles.values\n",
    "youTubearray"
   ]
  },
  {
   "cell_type": "code",
   "execution_count": 14,
   "metadata": {
    "collapsed": false
   },
   "outputs": [
    {
     "data": {
      "text/plain": [
       "10000"
      ]
     },
     "execution_count": 14,
     "metadata": {},
     "output_type": "execute_result"
    }
   ],
   "source": [
    "# combining youtube and porn titles\n",
    "titleslist = list(youTubearray[:5000,0]) + list(full_pornarray[:5000,0])\n",
    "len(titleslist)"
   ]
  },
  {
   "cell_type": "code",
   "execution_count": 15,
   "metadata": {
    "collapsed": false
   },
   "outputs": [
    {
     "name": "stdout",
     "output_type": "stream",
     "text": [
      "10000 406063 264\n",
      "40\n"
     ]
    }
   ],
   "source": [
    "maxlength = 0\n",
    "totallength = 0\n",
    "count = 0\n",
    "lengths = []\n",
    "for title in titleslist:\n",
    "    currentlength = len(title)\n",
    "    if currentlength > maxlength:\n",
    "        maxlength = currentlength\n",
    "    lengths.append(currentlength)\n",
    "    totallength += currentlength\n",
    "    count += 1\n",
    "print count, totallength, maxlength\n",
    "avg = totallength/count\n",
    "print avg"
   ]
  },
  {
   "cell_type": "code",
   "execution_count": 16,
   "metadata": {
    "collapsed": false
   },
   "outputs": [
    {
     "data": {
      "image/png": "[encoded data removed]",
      "text/plain": [
       "<matplotlib.figure.Figure at 0x8d43710>"
      ]
     },
     "metadata": {},
     "output_type": "display_data"
    }
   ],
   "source": [
    "from matplotlib import pyplot as plt\n",
    "\n",
    "plt.hist(lengths)\n",
    "plt.title(\"Distribution of Title Lengths\")\n",
    "plt.xlabel(\"Lengths\")\n",
    "plt.ylabel(\"Bin Count\")\n",
    "plt.show()"
   ]
  },
  {
   "cell_type": "markdown",
   "metadata": {},
   "source": [
    "If we do size 100 majority of titles will be incorporated fully"
   ]
  },
  {
   "cell_type": "code",
   "execution_count": 19,
   "metadata": {
    "collapsed": true
   },
   "outputs": [],
   "source": [
    "# one hot encoding\n",
    "# https://machinelearningmastery.com/how-to-one-hot-encode-sequence-data-in-python/\n",
    "\n",
    "#taking firest 5000 porn titles and first 5000 youtube titles to make data more manageable size\n",
    "encodedlist = []\n",
    "count = -1\n",
    "for title in titleslist:\n",
    "    count += 1\n",
    "    try:\n",
    "        int_encoded = [char_index[char] if char in vocab else char_index['specialchar'] for char in title.lower()]\n",
    "        #make all the title arrays the same size\n",
    "        if len(title) < 100:\n",
    "            for i in range(100-len(title)):\n",
    "                int_encoded.append(char_index[\"END\"])\n",
    "        onehot_encoded = []\n",
    "        for value in int_encoded[:100]:\n",
    "            letter = [0 for _ in range(len(vocab))]\n",
    "            letter[value] = 1\n",
    "            onehot_encoded.append(letter)\n",
    "        encodedlist.append(onehot_encoded)\n",
    "    except:\n",
    "        print count, \"Problem title:\", title\n",
    "    "
   ]
  },
  {
   "cell_type": "code",
   "execution_count": 25,
   "metadata": {
    "collapsed": false
   },
   "outputs": [
    {
     "data": {
      "text/plain": [
       "100"
      ]
     },
     "execution_count": 25,
     "metadata": {},
     "output_type": "execute_result"
    }
   ],
   "source": [
    "len(encodedlist[0])"
   ]
  },
  {
   "cell_type": "code",
   "execution_count": 86,
   "metadata": {
    "collapsed": true
   },
   "outputs": [],
   "source": [
    "test = [char_index[char] if char in vocab else char_index['specialchar'] for char in titleslist[0].lower()]\n",
    "for i in range(maxlength-len(title)):\n",
    "        test.append(char_index[\"END\"])"
   ]
  },
  {
   "cell_type": "code",
   "execution_count": 41,
   "metadata": {
    "collapsed": false
   },
   "outputs": [
    {
     "data": {
      "text/plain": [
       "'eminem - walk on water (audio) ft. beyonc\\xc3\\xa9'"
      ]
     },
     "execution_count": 41,
     "metadata": {},
     "output_type": "execute_result"
    }
   ],
   "source": [
    "titleslist[0].lower()"
   ]
  },
  {
   "cell_type": "code",
   "execution_count": 65,
   "metadata": {
    "collapsed": false
   },
   "outputs": [
    {
     "data": {
      "text/plain": [
       "'\\xe7\\x8c\\x8e\\xe5\\x9c\\xba | Game Of Hunting 12\\xe3\\x80\\x90TV\\xe7\\x89\\x88\\xe3\\x80\\x91\\xef\\xbc\\x88\\xe8\\x83\\xa1\\xe6\\xad\\x8c\\xe3\\x80\\x81\\xe5\\xbc\\xb5\\xe5\\x98\\x89\\xe8\\xad\\xaf\\xe3\\x80\\x81\\xe7\\xa5\\x96\\xe5\\xb3\\xb0\\xe7\\xad\\x89\\xe4\\xb8\\xbb\\xe6\\xbc\\x94\\xef\\xbc\\x89'"
      ]
     },
     "execution_count": 65,
     "metadata": {},
     "output_type": "execute_result"
    }
   ],
   "source": [
    "titleslist[12]"
   ]
  },
  {
   "cell_type": "code",
   "execution_count": 52,
   "metadata": {
    "collapsed": true
   },
   "outputs": [],
   "source": [
    "# pull out isPorn values for training data\n",
    "\n",
    "total_y = list(pornTitles.values[:5000,1])+list(youTubeTitles.values[:5000,1])"
   ]
  },
  {
   "cell_type": "code",
   "execution_count": 53,
   "metadata": {
    "collapsed": false
   },
   "outputs": [
    {
     "name": "stdout",
     "output_type": "stream",
     "text": [
      "(8000L, 100L, 71L)\n"
     ]
    }
   ],
   "source": [
    "# encodedlist is train_X\n",
    "train_x = encodedlist[:8000]\n",
    "print np.asarray(train_x).shape"
   ]
  },
  {
   "cell_type": "code",
   "execution_count": 54,
   "metadata": {
    "collapsed": false
   },
   "outputs": [
    {
     "name": "stdout",
     "output_type": "stream",
     "text": [
      "(8000L,)\n"
     ]
    }
   ],
   "source": [
    "train_y = total_y[:8000]\n",
    "print np.asarray(train_y).shape"
   ]
  },
  {
   "cell_type": "code",
   "execution_count": 56,
   "metadata": {
    "collapsed": false
   },
   "outputs": [
    {
     "name": "stdout",
     "output_type": "stream",
     "text": [
      "(2000L, 100L, 71L)\n",
      "(2000L,)\n"
     ]
    }
   ],
   "source": [
    "test_x = encodedlist[8000:]\n",
    "test_y = total_y[8000:]\n",
    "print np.asarray(test_x).shape\n",
    "print np.asarray(test_y).shape"
   ]
  },
  {
   "cell_type": "code",
   "execution_count": null,
   "metadata": {
    "collapsed": true
   },
   "outputs": [],
   "source": [
    "# build model\n",
    "# https://machinelearningmastery.com/sequence-classification-lstm-recurrent-neural-networks-python-keras/\n",
    "\n",
    "#maxlen=100\n",
    "\n",
    "model = Sequential()\n",
    "model.add(Embedding(100, 71, input_length = ))\n"
   ]
  }
 ],
 "metadata": {
  "kernelspec": {
   "display_name": "Python 3",
   "language": "python",
   "name": "python3"
  },
  "language_info": {
   "codemirror_mode": {
    "name": "ipython",
    "version": 3
   },
   "file_extension": ".py",
   "mimetype": "text/x-python",
   "name": "python",
   "nbconvert_exporter": "python",
   "pygments_lexer": "ipython3",
   "version": "3.5.4"
  }
 },
 "nbformat": 4,
 "nbformat_minor": 1
}
