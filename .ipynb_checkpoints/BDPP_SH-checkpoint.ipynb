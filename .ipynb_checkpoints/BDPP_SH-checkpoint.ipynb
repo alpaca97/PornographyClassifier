{
 "cells": [
  {
   "cell_type": "code",
   "execution_count": 1,
   "metadata": {
    "collapsed": true
   },
   "outputs": [],
   "source": [
    "# imports \n",
    "import numpy as np\n",
    "import pandas as pd \n",
    "import matplotlib.pyplot as plt\n",
    "%matplotlib inline\n",
    "import os \n",
    "\n",
    "porn_df = pd.read_csv('../data/xhamster.csv') # load Sexualitics raw csv\n",
    "youtube_df = pd.DataFrame() # initialize empty df\n",
    "for filename in os.listdir('../data/youtube'): \n",
    "    if filename != '.DS_Store':\n",
    "        current_df = pd.read_csv('../data/youtube/%s' %filename)\n",
    "        youtube_df = pd.concat([youtube_df,current_df], ignore_index=True)"
   ]
  },
  {
   "cell_type": "code",
   "execution_count": 2,
   "metadata": {
    "collapsed": true
   },
   "outputs": [],
   "source": [
    "# add porn column and remove extra headings\n",
    "\n",
    "youtube_df[\"isPorn\"] = pd.Series()\n",
    "youtube_df=youtube_df.fillna(0)\n",
    "youTubeTitles = youtube_df.loc[:, [\"title\", \"isPorn\"]]\n"
   ]
  },
  {
   "cell_type": "code",
   "execution_count": 3,
   "metadata": {
    "collapsed": true
   },
   "outputs": [],
   "source": [
    "porn_df[\"isPorn\"] = pd.Series()\n",
    "porn_df=porn_df.fillna(1)\n",
    "pornTitles = porn_df.loc[:, [\"title\", \"isPorn\"]]"
   ]
  },
  {
   "cell_type": "code",
   "execution_count": 50,
   "metadata": {},
   "outputs": [],
   "source": [
    "# use ast to turn \"channels\" string values into lists of tags\n",
    "import ast\n",
    "porn_time_tags = porn_df.loc[:, [\"upload_date\", \"channels\"]]\n",
    "\n",
    "videoyears = []\n",
    "tags = []\n",
    "nodatetags = []\n",
    "# Pull out years of videos\n",
    "for i in porn_time_tags.values:\n",
    "    if i[0] == 1:\n",
    "        nodatetags.append(i[1])\n",
    "    else:\n",
    "        videoyears.append(i[0][:4])\n",
    "        tags.append(ast.literal_eval(i[1]))\n",
    "\n"
   ]
  },
  {
   "cell_type": "code",
   "execution_count": 49,
   "metadata": {},
   "outputs": [
    {
     "data": {
      "text/plain": [
       "list"
      ]
     },
     "execution_count": 49,
     "metadata": {},
     "output_type": "execute_result"
    }
   ],
   "source": [
    "import ast\n",
    "\n",
    "type(ast.literal_eval(porn_time_tags.values[0][1]))"
   ]
  },
  {
   "cell_type": "code",
   "execution_count": 67,
   "metadata": {},
   "outputs": [],
   "source": [
    "# make tag vocab library\n",
    "\n",
    "alltags = []\n",
    "\n",
    "for value in tags:\n",
    "    alltags += value\n",
    "\n",
    "# remove duplicates    \n",
    "alltags = set(alltags)\n",
    "\n",
    "#turn back into a list\n",
    "alltags = list(alltags)"
   ]
  },
  {
   "cell_type": "code",
   "execution_count": 74,
   "metadata": {},
   "outputs": [
    {
     "data": {
      "text/plain": [
       "[['BBW', 'Black and Ebony', 'Interracial'],\n",
       " ['Masturbation'],\n",
       " ['Babes', 'Teens', 'Webcams']]"
      ]
     },
     "execution_count": 74,
     "metadata": {},
     "output_type": "execute_result"
    }
   ],
   "source": [
    "tags[0:3]"
   ]
  },
  {
   "cell_type": "code",
   "execution_count": 73,
   "metadata": {},
   "outputs": [
    {
     "name": "stdout",
     "output_type": "stream",
     "text": [
      "yes\n",
      "no\n",
      "no\n"
     ]
    }
   ],
   "source": [
    "for i in tags[0:3]:\n",
    "    if 'BBW' in i:\n",
    "        print \"yes\"\n",
    "    else:\n",
    "        print \"no\""
   ]
  },
  {
   "cell_type": "code",
   "execution_count": 85,
   "metadata": {},
   "outputs": [
    {
     "data": {
      "image/png": "[encoded data removed]",
      "text/plain": [
       "<matplotlib.figure.Figure at 0x42428198>"
      ]
     },
     "metadata": {},
     "output_type": "display_data"
    }
   ],
   "source": [
    "# make histogram for first two tags (\"blondes\" and \"matures\") as a test\n",
    "alltags[0]\n",
    "\n",
    "blondesyears = []\n",
    "count=0\n",
    "for i in tags:\n",
    "    if alltags[0] in i:\n",
    "        blondesyears.append(videoyears[count])\n",
    "    count += 1\n",
    "\n",
    "maturesyears = []\n",
    "count=0\n",
    "for i in tags:\n",
    "    if alltags[1] in i:\n",
    "        maturesyears.append(videoyears[count])\n",
    "    count += 1\n",
    "\n",
    "    \n",
    "plt.hist(np.asarray(blondesyears), normed = True, alpha = 0.25, label = alltags[0])\n",
    "plt.hist(np.asarray(maturesyears), normed = True, alpha = 0.25, label = alltags[1])\n",
    "plt.title(\"Blonde Tag Year Distribution\")\n",
    "plt.xticks(rotation=90)\n",
    "plt.xlabel(\"Tag Year\")\n",
    "plt.ylabel(\"Normalized Frequency\")\n",
    "plt.legend(loc='upper left')\n",
    "plt.show()"
   ]
  },
  {
   "cell_type": "code",
   "execution_count": 142,
   "metadata": {},
   "outputs": [
    {
     "data": {
      "image/png": "[encoded data removed]",
      "text/plain": [
       "<matplotlib.figure.Figure at 0x4890f4e0>"
      ]
     },
     "metadata": {},
     "output_type": "display_data"
    }
   ],
   "source": [
    "#implement for all tags\n",
    "\n",
    "def findyears(currenttag):\n",
    "    currenttagyears = []\n",
    "    count=0\n",
    "    for i in tags:\n",
    "        if currenttag in i:\n",
    "            currenttagyears.append(videoyears[count])\n",
    "        count += 1\n",
    "    return currenttagyears\n",
    "\n",
    "plt.figure(figsize = (15,5))\n",
    "for i in alltags:\n",
    "    taglist = findyears(i)\n",
    "    plt.hist(np.asarray(taglist), normed = True, alpha = 0.25, label = i)\n",
    "    \n",
    "plt.title(\"Frequency of Pornography Video Tags Overtime\")\n",
    "plt.xticks(rotation=90)\n",
    "plt.xlabel(\"Tag Year\")\n",
    "plt.ylabel(\"Normalized Frequency\")\n",
    "plt.legend(loc='upper left', prop={'size': 7}, ncol = 6)\n",
    "plt.show()"
   ]
  },
  {
   "cell_type": "markdown",
   "metadata": {},
   "source": [
    "Since the time trend doesn't appear to tell us much, since most tags seem to follow a similar trend, lets try some more analysis..."
   ]
  },
  {
   "cell_type": "code",
   "execution_count": 143,
   "metadata": {},
   "outputs": [
    {
     "data": {
      "image/png": "[encoded data removed]",
      "text/plain": [
       "<matplotlib.figure.Figure at 0x424fbf28>"
      ]
     },
     "metadata": {},
     "output_type": "display_data"
    }
   ],
   "source": [
    "plt.figure(figsize = (15,5))\n",
    "for i in alltags:\n",
    "    taglist = findyears(i)\n",
    "    plt.hist(np.asarray(taglist), alpha = 0.25, label = i)\n",
    "    \n",
    "plt.title(\"Unnormalized Frequency of Pornography Video Tags Overtime\")\n",
    "plt.xticks(rotation=90)\n",
    "plt.xlabel(\"Tag Year\")\n",
    "plt.ylabel(\"Frequency\")\n",
    "plt.legend(loc='upper left', prop={'size': 7}, ncol = 6)\n",
    "plt.show()"
   ]
  },
  {
   "cell_type": "markdown",
   "metadata": {},
   "source": [
    "The unnormalized graph confirms that Amateur is most frequently used tag every year..."
   ]
  },
  {
   "cell_type": "code",
   "execution_count": 127,
   "metadata": {},
   "outputs": [
    {
     "name": "stdout",
     "output_type": "stream",
     "text": [
      "Element counts are:\n",
      "Counter({'2012': 14377, '2011': 9244, '2010': 5699, '2009': 3944, '2013': 3040, '2008': 2020, '2007': 449})\n",
      "Element counts are:\n",
      "Counter({'2012': 14863, '2011': 11140, '2010': 8854, '2009': 6273, '2008': 3751, '2013': 2979, '2007': 236})\n",
      "Most common elements and their counts are:\n",
      "2012 14377\n",
      "Most common elements and their counts are:\n",
      "2012 14863\n"
     ]
    }
   ],
   "source": [
    "from collections import Counter, defaultdict\n",
    "\n",
    "c=Counter(findyears(alltags[0]))\n",
    "c_2 = Counter(findyears(alltags[1]))\n",
    "\n",
    "print(\"Element counts are:\")\n",
    "print(c)\n",
    "print(\"Element counts are:\")\n",
    "print(c_2)\n",
    "#most common method --- in this case giving most common year\n",
    "print(\"Most common elements and their counts are:\")\n",
    "for word, count in c.most_common(1):\n",
    "    print word, count\n",
    "print(\"Most common elements and their counts are:\")\n",
    "for word, count in c_2.most_common(1):\n",
    "    print word, count"
   ]
  },
  {
   "cell_type": "code",
   "execution_count": 131,
   "metadata": {},
   "outputs": [
    {
     "data": {
      "text/plain": [
       "14377"
      ]
     },
     "execution_count": 131,
     "metadata": {},
     "output_type": "execute_result"
    }
   ],
   "source": [
    "from collections import defaultdict\n",
    "\n",
    "c=Counter(findyears(alltags[0]))\n",
    "\n",
    "exdict = defaultdict(int)\n",
    "for year, count in c.items():\n",
    "    if count > exdict[year]:\n",
    "        exdict[year] = (count, alltags[0])\n",
    "exdict['2012'][0]"
   ]
  },
  {
   "cell_type": "code",
   "execution_count": 135,
   "metadata": {},
   "outputs": [
    {
     "data": {
      "text/plain": [
       "defaultdict(int,\n",
       "            {'2007': (1851, 'Amateur'),\n",
       "             '2008': (12606, 'Amateur'),\n",
       "             '2009': (20308, 'Amateur'),\n",
       "             '2010': (32207, 'Amateur'),\n",
       "             '2011': (57398, 'Amateur'),\n",
       "             '2012': (82747, 'Amateur'),\n",
       "             '2013': (16022, 'Amateur')})"
      ]
     },
     "execution_count": 135,
     "metadata": {},
     "output_type": "execute_result"
    }
   ],
   "source": [
    "# try to find the most popular tag each year\n",
    "counterslist = defaultdict(int)\n",
    "for tag in alltags:\n",
    "    c = Counter(findyears(tag))\n",
    "    for year, count in c.items():\n",
    "        if counterslist[str(year)] == 0:\n",
    "            counterslist[year] = (count, tag)\n",
    "        if count > counterslist[str(year)][0]:\n",
    "            counterslist[year] = (count, tag)\n",
    "        \n",
    "counterslist"
   ]
  },
  {
   "cell_type": "code",
   "execution_count": 140,
   "metadata": {},
   "outputs": [
    {
     "data": {
      "text/plain": [
       "Counter({'2007': 1851,\n",
       "         '2008': 12606,\n",
       "         '2009': 20308,\n",
       "         '2010': 32207,\n",
       "         '2011': 57398,\n",
       "         '2012': 82747,\n",
       "         '2013': 16022})"
      ]
     },
     "execution_count": 140,
     "metadata": {},
     "output_type": "execute_result"
    }
   ],
   "source": [
    "c = Counter(findyears(alltags[7]))\n",
    "c"
   ]
  },
  {
   "cell_type": "code",
   "execution_count": 4,
   "metadata": {
    "collapsed": true
   },
   "outputs": [],
   "source": [
    "#merge datasets\n",
    "merged_data = youTubeTitles.append(pornTitles, ignore_index=True)\n",
    "title_matrix= merged_data.loc[:,[\"title\"]]\n",
    "target_array=merged_data.loc[:, [\"isPorn\"]]"
   ]
  },
  {
   "cell_type": "code",
   "execution_count": 5,
   "metadata": {},
   "outputs": [
    {
     "name": "stdout",
     "output_type": "stream",
     "text": [
      "KFold(n_splits=10, random_state=None, shuffle=True)\n"
     ]
    }
   ],
   "source": [
    "#folding datasets for training\n",
    "from sklearn.model_selection import KFold\n",
    "kf = KFold(n_splits = 10, shuffle=True)\n",
    "kf.get_n_splits(merged_data)\n",
    "print kf"
   ]
  },
  {
   "cell_type": "code",
   "execution_count": 6,
   "metadata": {},
   "outputs": [
    {
     "name": "stderr",
     "output_type": "stream",
     "text": [
      "C:\\Users\\samhelen\\Anaconda2\\lib\\site-packages\\h5py\\__init__.py:34: FutureWarning: Conversion of the second argument of issubdtype from `float` to `np.floating` is deprecated. In future, it will be treated as `np.float64 == np.dtype(float).type`.\n",
      "  from ._conv import register_converters as _register_converters\n",
      "Using CNTK backend\n",
      "C:\\Users\\samhelen\\Anaconda2\\lib\\site-packages\\keras\\backend\\cntk_backend.py:21: UserWarning: CNTK backend warning: GPU is not detected. CNTK's CPU version is not fully optimized,please run with GPU to get better performance.\n",
      "  'CNTK backend warning: GPU is not detected. '\n"
     ]
    }
   ],
   "source": [
    "import numpy\n",
    "from keras.models import Sequential\n",
    "from keras.layers import Dense\n",
    "from keras.layers import LSTM\n",
    "from keras.layers.embeddings import Embedding\n",
    "from keras.preprocessing import sequence\n",
    "from keras.layers import Activation, Dropout"
   ]
  },
  {
   "cell_type": "code",
   "execution_count": 7,
   "metadata": {},
   "outputs": [
    {
     "name": "stdout",
     "output_type": "stream",
     "text": [
      "786121\n",
      "785329\n",
      "792\n"
     ]
    }
   ],
   "source": [
    "pornarray = pornTitles.values\n",
    "not_empty = pornTitles.values[:,0] != 1\n",
    "full_pornarray = pornarray[not_empty]\n",
    "print len(pornarray)\n",
    "print len(full_pornarray)\n",
    "print len(pornarray) - len(full_pornarray)"
   ]
  },
  {
   "cell_type": "code",
   "execution_count": 8,
   "metadata": {},
   "outputs": [
    {
     "name": "stdout",
     "output_type": "stream",
     "text": [
      "set(['specialchar', '!', ' ', '#', '\"', '%', '$', \"'\", '&', ')', '(', '+', '*', '-', ',', '/', '.', '1', '0', '3', '2', '5', '4', '7', '6', '9', '8', ';', ':', '=', '<', '?', '>', '@', 'END', '[', ']', '\\\\', '_', '^', 'a', '`', 'c', 'b', 'e', 'd', 'g', 'f', 'i', 'h', 'k', 'j', 'm', 'l', 'o', 'n', 'q', 'p', 's', 'r', 'u', 't', 'w', 'v', 'y', 'x', '{', 'z', '}', '|', '~'])\n",
      "71\n"
     ]
    }
   ],
   "source": [
    "import string\n",
    "\n",
    "vocab = [x for x in string.ascii_lowercase] + [x for x in string.punctuation] + [x for x in string.digits]\n",
    "vocab.append(' ')\n",
    "vocab.append('END')\n",
    "vocab.append('specialchar')\n",
    "vocab = set(vocab)\n",
    "#vocab.append(string.punctuation)\n",
    "#vocab.append(string.digits)\n",
    "print vocab\n",
    "print len(vocab)"
   ]
  },
  {
   "cell_type": "code",
   "execution_count": 10,
   "metadata": {},
   "outputs": [
    {
     "name": "stdout",
     "output_type": "stream",
     "text": [
      "{'specialchar': 0, '!': 1, ' ': 2, '#': 3, '\"': 4, '%': 5, '$': 6, \"'\": 7, '&': 8, ')': 9, '(': 10, '+': 11, '*': 12, '-': 13, ',': 14, '/': 15, '.': 16, '1': 17, '0': 18, '3': 19, '2': 20, '5': 21, '4': 22, '7': 23, '6': 24, '9': 25, '8': 26, ';': 27, ':': 28, '=': 29, '<': 30, '?': 31, '>': 32, '@': 33, 'END': 34, '[': 35, ']': 36, '\\\\': 37, '_': 38, '^': 39, 'a': 40, '`': 41, 'c': 42, 'b': 43, 'e': 44, 'd': 45, 'g': 46, 'f': 47, 'i': 48, 'h': 49, 'k': 50, 'j': 51, 'm': 52, 'l': 53, 'o': 54, 'n': 55, 'q': 56, 'p': 57, 's': 58, 'r': 59, 'u': 60, 't': 61, 'w': 62, 'v': 63, 'y': 64, 'x': 65, '{': 66, 'z': 67, '}': 68, '|': 69, '~': 70}\n"
     ]
    }
   ],
   "source": [
    "# vocab is 71\n",
    "# create character index\n",
    "\n",
    "char_index = dict((c, i) for i, c in enumerate(vocab))\n",
    "print char_index"
   ]
  },
  {
   "cell_type": "code",
   "execution_count": 11,
   "metadata": {},
   "outputs": [
    {
     "data": {
      "text/plain": [
       "array([['Eminem - Walk On Water (Audio) ft. Beyonc\\xc3\\xa9', 0.0],\n",
       "       ['PLUSH - Bad Unboxing Fan Mail', 0.0],\n",
       "       ['Racist Superman | Rudy Mancuso, King Bach & Lele Pons', 0.0],\n",
       "       ...,\n",
       "       ['Dancing Furry Ball!', 0.0],\n",
       "       ['Kacey Musgraves - High Horse (Lyric Video)', 0.0],\n",
       "       ['First footage of deep-sea anglerfish pair', 0.0]], dtype=object)"
      ]
     },
     "execution_count": 11,
     "metadata": {},
     "output_type": "execute_result"
    }
   ],
   "source": [
    "youTubearray = youTubeTitles.values\n",
    "youTubearray"
   ]
  },
  {
   "cell_type": "code",
   "execution_count": 12,
   "metadata": {},
   "outputs": [
    {
     "data": {
      "text/plain": [
       "10000"
      ]
     },
     "execution_count": 12,
     "metadata": {},
     "output_type": "execute_result"
    }
   ],
   "source": [
    "# combining youtube and porn titles\n",
    "titleslist = list(youTubearray[:5000,0]) + list(full_pornarray[:5000,0])\n",
    "len(titleslist)"
   ]
  },
  {
   "cell_type": "code",
   "execution_count": 13,
   "metadata": {},
   "outputs": [
    {
     "name": "stdout",
     "output_type": "stream",
     "text": [
      "10000 406063 264\n",
      "40\n"
     ]
    }
   ],
   "source": [
    "maxlength = 0\n",
    "totallength = 0\n",
    "count = 0\n",
    "lengths = []\n",
    "for title in titleslist:\n",
    "    currentlength = len(title)\n",
    "    if currentlength > maxlength:\n",
    "        maxlength = currentlength\n",
    "    lengths.append(currentlength)\n",
    "    totallength += currentlength\n",
    "    count += 1\n",
    "print count, totallength, maxlength\n",
    "avg = totallength/count\n",
    "print avg"
   ]
  },
  {
   "cell_type": "code",
   "execution_count": 14,
   "metadata": {},
   "outputs": [
    {
     "data": {
      "image/png": "[encoded data removed]",
      "text/plain": [
       "<matplotlib.figure.Figure at 0x28ab86a0>"
      ]
     },
     "metadata": {},
     "output_type": "display_data"
    }
   ],
   "source": [
    "from matplotlib import pyplot as plt\n",
    "\n",
    "plt.hist(lengths)\n",
    "plt.title(\"Distribution of Title Lengths\")\n",
    "plt.xlabel(\"Lengths\")\n",
    "plt.ylabel(\"Bin Count\")\n",
    "plt.show()"
   ]
  },
  {
   "cell_type": "markdown",
   "metadata": {},
   "source": [
    "If we do size 100 majority of titles will be incorporated fully"
   ]
  },
  {
   "cell_type": "code",
   "execution_count": 16,
   "metadata": {
    "collapsed": true
   },
   "outputs": [],
   "source": [
    "# one hot encoding\n",
    "# https://machinelearningmastery.com/how-to-one-hot-encode-sequence-data-in-python/\n",
    "\n",
    "#taking firest 5000 porn titles and first 5000 youtube titles to make data more manageable size\n",
    "encodedlist = []\n",
    "count = -1\n",
    "for title in titleslist:\n",
    "    count += 1\n",
    "    try:\n",
    "        int_encoded = [char_index[char] if char in vocab else char_index['specialchar'] for char in title.lower()]\n",
    "        #make all the title arrays the same size\n",
    "        if len(title) < 100:\n",
    "            for i in range(100-len(title)):\n",
    "                int_encoded.append(char_index[\"END\"])\n",
    "        onehot_encoded = []\n",
    "        for value in int_encoded[:100]:\n",
    "            letter = [0 for _ in range(len(vocab))]\n",
    "            letter[value] = 1\n",
    "            onehot_encoded.append(letter)\n",
    "        encodedlist.append(onehot_encoded)\n",
    "    except:\n",
    "        print count, \"Problem title:\", title\n",
    "    "
   ]
  },
  {
   "cell_type": "code",
   "execution_count": 17,
   "metadata": {},
   "outputs": [
    {
     "data": {
      "text/plain": [
       "100"
      ]
     },
     "execution_count": 17,
     "metadata": {},
     "output_type": "execute_result"
    }
   ],
   "source": [
    "len(encodedlist[0])"
   ]
  },
  {
   "cell_type": "code",
   "execution_count": 18,
   "metadata": {
    "collapsed": true
   },
   "outputs": [],
   "source": [
    "test = [char_index[char] if char in vocab else char_index['specialchar'] for char in titleslist[0].lower()]\n",
    "for i in range(maxlength-len(title)):\n",
    "        test.append(char_index[\"END\"])"
   ]
  },
  {
   "cell_type": "code",
   "execution_count": 19,
   "metadata": {},
   "outputs": [
    {
     "data": {
      "text/plain": [
       "'eminem - walk on water (audio) ft. beyonc\\xc3\\xa9'"
      ]
     },
     "execution_count": 19,
     "metadata": {},
     "output_type": "execute_result"
    }
   ],
   "source": [
    "titleslist[0].lower()"
   ]
  },
  {
   "cell_type": "code",
   "execution_count": 20,
   "metadata": {},
   "outputs": [
    {
     "data": {
      "text/plain": [
       "'\\xe7\\x8c\\x8e\\xe5\\x9c\\xba | Game Of Hunting 12\\xe3\\x80\\x90TV\\xe7\\x89\\x88\\xe3\\x80\\x91\\xef\\xbc\\x88\\xe8\\x83\\xa1\\xe6\\xad\\x8c\\xe3\\x80\\x81\\xe5\\xbc\\xb5\\xe5\\x98\\x89\\xe8\\xad\\xaf\\xe3\\x80\\x81\\xe7\\xa5\\x96\\xe5\\xb3\\xb0\\xe7\\xad\\x89\\xe4\\xb8\\xbb\\xe6\\xbc\\x94\\xef\\xbc\\x89'"
      ]
     },
     "execution_count": 20,
     "metadata": {},
     "output_type": "execute_result"
    }
   ],
   "source": [
    "titleslist[12]"
   ]
  },
  {
   "cell_type": "code",
   "execution_count": 21,
   "metadata": {
    "collapsed": true
   },
   "outputs": [],
   "source": [
    "# pull out isPorn values for training data\n",
    "\n",
    "total_y = list(pornTitles.values[:5000,1])+list(youTubeTitles.values[:5000,1])"
   ]
  },
  {
   "cell_type": "code",
   "execution_count": 22,
   "metadata": {},
   "outputs": [
    {
     "name": "stdout",
     "output_type": "stream",
     "text": [
      "(4000L, 100L, 71L)\n"
     ]
    }
   ],
   "source": [
    "# encodedlist is train_X\n",
    "train_x = encodedlist[:4000]\n",
    "print np.asarray(train_x).shape"
   ]
  },
  {
   "cell_type": "code",
   "execution_count": 23,
   "metadata": {},
   "outputs": [
    {
     "name": "stdout",
     "output_type": "stream",
     "text": [
      "(4000L,)\n"
     ]
    }
   ],
   "source": [
    "train_y = total_y[:4000]\n",
    "print np.asarray(train_y).shape"
   ]
  },
  {
   "cell_type": "code",
   "execution_count": 24,
   "metadata": {},
   "outputs": [
    {
     "name": "stdout",
     "output_type": "stream",
     "text": [
      "(1000L, 100L, 71L)\n",
      "(1000L,)\n"
     ]
    }
   ],
   "source": [
    "test_x = encodedlist[4000:5000]\n",
    "test_y = total_y[4000:5000]\n",
    "print np.asarray(test_x).shape\n",
    "print np.asarray(test_y).shape"
   ]
  },
  {
   "cell_type": "code",
   "execution_count": 25,
   "metadata": {},
   "outputs": [
    {
     "name": "stdout",
     "output_type": "stream",
     "text": [
      "_________________________________________________________________\n",
      "Layer (type)                 Output Shape              Param #   \n",
      "=================================================================\n",
      "embedding_1 (Embedding)      (None, 100, 71)           5041      \n",
      "_________________________________________________________________\n",
      "dropout_1 (Dropout)          (None, 100, 71)           0         \n",
      "_________________________________________________________________\n",
      "lstm_1 (LSTM)                (None, 100)               68800     \n",
      "_________________________________________________________________\n",
      "dropout_2 (Dropout)          (None, 100)               0         \n",
      "_________________________________________________________________\n",
      "dense_1 (Dense)              (None, 1)                 101       \n",
      "=================================================================\n",
      "Total params: 73,942\n",
      "Trainable params: 73,942\n",
      "Non-trainable params: 0\n",
      "_________________________________________________________________\n",
      "None\n"
     ]
    },
    {
     "ename": "ValueError",
     "evalue": "Error when checking input: expected embedding_1_input to have 2 dimensions, but got array with shape (4000L, 100L, 71L)",
     "output_type": "error",
     "traceback": [
      "\u001b[1;31m---------------------------------------------------------------------------\u001b[0m",
      "\u001b[1;31mValueError\u001b[0m                                Traceback (most recent call last)",
      "\u001b[1;32m<ipython-input-25-e161ae29b296>\u001b[0m in \u001b[0;36m<module>\u001b[1;34m()\u001b[0m\n\u001b[0;32m     12\u001b[0m \u001b[0mmodel\u001b[0m\u001b[1;33m.\u001b[0m\u001b[0mcompile\u001b[0m\u001b[1;33m(\u001b[0m\u001b[0mloss\u001b[0m \u001b[1;33m=\u001b[0m \u001b[1;34m'binary_crossentropy'\u001b[0m\u001b[1;33m,\u001b[0m \u001b[0moptimizer\u001b[0m \u001b[1;33m=\u001b[0m \u001b[1;34m'adam'\u001b[0m\u001b[1;33m,\u001b[0m \u001b[0mmetrics\u001b[0m\u001b[1;33m=\u001b[0m\u001b[1;33m[\u001b[0m\u001b[1;34m'accuracy'\u001b[0m\u001b[1;33m]\u001b[0m\u001b[1;33m)\u001b[0m\u001b[1;33m\u001b[0m\u001b[0m\n\u001b[0;32m     13\u001b[0m \u001b[1;32mprint\u001b[0m \u001b[0mmodel\u001b[0m\u001b[1;33m.\u001b[0m\u001b[0msummary\u001b[0m\u001b[1;33m(\u001b[0m\u001b[1;33m)\u001b[0m\u001b[1;33m\u001b[0m\u001b[0m\n\u001b[1;32m---> 14\u001b[1;33m \u001b[0mmodel\u001b[0m\u001b[1;33m.\u001b[0m\u001b[0mfit\u001b[0m\u001b[1;33m(\u001b[0m\u001b[0mnp\u001b[0m\u001b[1;33m.\u001b[0m\u001b[0masarray\u001b[0m\u001b[1;33m(\u001b[0m\u001b[0mtrain_x\u001b[0m\u001b[1;33m)\u001b[0m\u001b[1;33m,\u001b[0m \u001b[0mnp\u001b[0m\u001b[1;33m.\u001b[0m\u001b[0masarray\u001b[0m\u001b[1;33m(\u001b[0m\u001b[0mtrain_y\u001b[0m\u001b[1;33m)\u001b[0m\u001b[1;33m,\u001b[0m \u001b[0mepochs\u001b[0m\u001b[1;33m=\u001b[0m\u001b[1;36m3\u001b[0m\u001b[1;33m,\u001b[0m \u001b[0mbatch_size\u001b[0m\u001b[1;33m=\u001b[0m\u001b[1;36m64\u001b[0m\u001b[1;33m)\u001b[0m\u001b[1;33m\u001b[0m\u001b[0m\n\u001b[0m",
      "\u001b[1;32mC:\\Users\\samhelen\\Anaconda2\\lib\\site-packages\\keras\\models.pyc\u001b[0m in \u001b[0;36mfit\u001b[1;34m(self, x, y, batch_size, epochs, verbose, callbacks, validation_split, validation_data, shuffle, class_weight, sample_weight, initial_epoch, steps_per_epoch, validation_steps, **kwargs)\u001b[0m\n\u001b[0;32m   1000\u001b[0m                               \u001b[0minitial_epoch\u001b[0m\u001b[1;33m=\u001b[0m\u001b[0minitial_epoch\u001b[0m\u001b[1;33m,\u001b[0m\u001b[1;33m\u001b[0m\u001b[0m\n\u001b[0;32m   1001\u001b[0m                               \u001b[0msteps_per_epoch\u001b[0m\u001b[1;33m=\u001b[0m\u001b[0msteps_per_epoch\u001b[0m\u001b[1;33m,\u001b[0m\u001b[1;33m\u001b[0m\u001b[0m\n\u001b[1;32m-> 1002\u001b[1;33m                               validation_steps=validation_steps)\n\u001b[0m\u001b[0;32m   1003\u001b[0m \u001b[1;33m\u001b[0m\u001b[0m\n\u001b[0;32m   1004\u001b[0m     def evaluate(self, x=None, y=None,\n",
      "\u001b[1;32mC:\\Users\\samhelen\\Anaconda2\\lib\\site-packages\\keras\\engine\\training.pyc\u001b[0m in \u001b[0;36mfit\u001b[1;34m(self, x, y, batch_size, epochs, verbose, callbacks, validation_split, validation_data, shuffle, class_weight, sample_weight, initial_epoch, steps_per_epoch, validation_steps, **kwargs)\u001b[0m\n\u001b[0;32m   1628\u001b[0m             \u001b[0msample_weight\u001b[0m\u001b[1;33m=\u001b[0m\u001b[0msample_weight\u001b[0m\u001b[1;33m,\u001b[0m\u001b[1;33m\u001b[0m\u001b[0m\n\u001b[0;32m   1629\u001b[0m             \u001b[0mclass_weight\u001b[0m\u001b[1;33m=\u001b[0m\u001b[0mclass_weight\u001b[0m\u001b[1;33m,\u001b[0m\u001b[1;33m\u001b[0m\u001b[0m\n\u001b[1;32m-> 1630\u001b[1;33m             batch_size=batch_size)\n\u001b[0m\u001b[0;32m   1631\u001b[0m         \u001b[1;31m# Prepare validation data.\u001b[0m\u001b[1;33m\u001b[0m\u001b[1;33m\u001b[0m\u001b[0m\n\u001b[0;32m   1632\u001b[0m         \u001b[0mdo_validation\u001b[0m \u001b[1;33m=\u001b[0m \u001b[0mFalse\u001b[0m\u001b[1;33m\u001b[0m\u001b[0m\n",
      "\u001b[1;32mC:\\Users\\samhelen\\Anaconda2\\lib\\site-packages\\keras\\engine\\training.pyc\u001b[0m in \u001b[0;36m_standardize_user_data\u001b[1;34m(self, x, y, sample_weight, class_weight, check_array_lengths, batch_size)\u001b[0m\n\u001b[0;32m   1474\u001b[0m                                     \u001b[0mself\u001b[0m\u001b[1;33m.\u001b[0m\u001b[0m_feed_input_shapes\u001b[0m\u001b[1;33m,\u001b[0m\u001b[1;33m\u001b[0m\u001b[0m\n\u001b[0;32m   1475\u001b[0m                                     \u001b[0mcheck_batch_axis\u001b[0m\u001b[1;33m=\u001b[0m\u001b[0mFalse\u001b[0m\u001b[1;33m,\u001b[0m\u001b[1;33m\u001b[0m\u001b[0m\n\u001b[1;32m-> 1476\u001b[1;33m                                     exception_prefix='input')\n\u001b[0m\u001b[0;32m   1477\u001b[0m         y = _standardize_input_data(y, self._feed_output_names,\n\u001b[0;32m   1478\u001b[0m                                     \u001b[0moutput_shapes\u001b[0m\u001b[1;33m,\u001b[0m\u001b[1;33m\u001b[0m\u001b[0m\n",
      "\u001b[1;32mC:\\Users\\samhelen\\Anaconda2\\lib\\site-packages\\keras\\engine\\training.pyc\u001b[0m in \u001b[0;36m_standardize_input_data\u001b[1;34m(data, names, shapes, check_batch_axis, exception_prefix)\u001b[0m\n\u001b[0;32m    111\u001b[0m                         \u001b[1;34m': expected '\u001b[0m \u001b[1;33m+\u001b[0m \u001b[0mnames\u001b[0m\u001b[1;33m[\u001b[0m\u001b[0mi\u001b[0m\u001b[1;33m]\u001b[0m \u001b[1;33m+\u001b[0m \u001b[1;34m' to have '\u001b[0m \u001b[1;33m+\u001b[0m\u001b[1;33m\u001b[0m\u001b[0m\n\u001b[0;32m    112\u001b[0m                         \u001b[0mstr\u001b[0m\u001b[1;33m(\u001b[0m\u001b[0mlen\u001b[0m\u001b[1;33m(\u001b[0m\u001b[0mshape\u001b[0m\u001b[1;33m)\u001b[0m\u001b[1;33m)\u001b[0m \u001b[1;33m+\u001b[0m \u001b[1;34m' dimensions, but got array '\u001b[0m\u001b[1;33m\u001b[0m\u001b[0m\n\u001b[1;32m--> 113\u001b[1;33m                         'with shape ' + str(data_shape))\n\u001b[0m\u001b[0;32m    114\u001b[0m                 \u001b[1;32mif\u001b[0m \u001b[1;32mnot\u001b[0m \u001b[0mcheck_batch_axis\u001b[0m\u001b[1;33m:\u001b[0m\u001b[1;33m\u001b[0m\u001b[0m\n\u001b[0;32m    115\u001b[0m                     \u001b[0mdata_shape\u001b[0m \u001b[1;33m=\u001b[0m \u001b[0mdata_shape\u001b[0m\u001b[1;33m[\u001b[0m\u001b[1;36m1\u001b[0m\u001b[1;33m:\u001b[0m\u001b[1;33m]\u001b[0m\u001b[1;33m\u001b[0m\u001b[0m\n",
      "\u001b[1;31mValueError\u001b[0m: Error when checking input: expected embedding_1_input to have 2 dimensions, but got array with shape (4000L, 100L, 71L)"
     ]
    }
   ],
   "source": [
    "# build model\n",
    "# https://machinelearningmastery.com/sequence-classification-lstm-recurrent-neural-networks-python-keras/\n",
    "\n",
    "numpy.random.seed(7)\n",
    "\n",
    "model = Sequential()\n",
    "model.add(Embedding(71, 71, input_length = 100))\n",
    "model.add(Dropout(0.2))\n",
    "model.add(LSTM(100))\n",
    "model.add(Dropout(0.2))\n",
    "model.add(Dense(1, activation = 'sigmoid'))\n",
    "model.compile(loss = 'binary_crossentropy', optimizer = 'adam', metrics=['accuracy'])\n",
    "print model.summary()\n",
    "model.fit(np.asarray(train_x), np.asarray(train_y), epochs=3, batch_size=64)"
   ]
  },
  {
   "cell_type": "code",
   "execution_count": null,
   "metadata": {
    "collapsed": true
   },
   "outputs": [],
   "source": [
    "scores = model.evaluate(np.asarray(test_x), np.asarray(test_y), verbose=0)\n",
    "print \"Accuracy: %.2f%%\" % (scores[1]*100)"
   ]
  }
 ],
 "metadata": {
  "kernelspec": {
   "display_name": "Python 2",
   "language": "python",
   "name": "python2"
  },
  "language_info": {
   "codemirror_mode": {
    "name": "ipython",
    "version": 2
   },
   "file_extension": ".py",
   "mimetype": "text/x-python",
   "name": "python",
   "nbconvert_exporter": "python",
   "pygments_lexer": "ipython2",
   "version": "2.7.14"
  }
 },
 "nbformat": 4,
 "nbformat_minor": 1
}
