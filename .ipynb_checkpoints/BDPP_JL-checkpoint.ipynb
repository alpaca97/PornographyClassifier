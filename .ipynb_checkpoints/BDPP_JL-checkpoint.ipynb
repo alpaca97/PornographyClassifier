{
 "cells": [
  {
   "cell_type": "markdown",
   "metadata": {},
   "source": [
    "Getting and organizing data"
   ]
  },
  {
   "cell_type": "code",
   "execution_count": null,
   "metadata": {
    "collapsed": true
   },
   "outputs": [],
   "source": [
    "#import data\n",
    "import pandas as pd\n",
    "youTubeData = pd.read_csv('USvideos.csv', index_col=0)\n",
    "pornData = pd.read_csv('xhamster.csv', index_col=0)\n"
   ]
  },
  {
   "cell_type": "code",
   "execution_count": null,
   "metadata": {
    "collapsed": true
   },
   "outputs": [],
   "source": [
    "youTubeData"
   ]
  },
  {
   "cell_type": "code",
   "execution_count": null,
   "metadata": {
    "collapsed": true
   },
   "outputs": [],
   "source": [
    "#add porn column\n",
    "youTubeData[\"isPorn\"]=pd.Series()\n",
    "youTubeData=youTubeData.fillna(0)\n"
   ]
  },
  {
   "cell_type": "code",
   "execution_count": null,
   "metadata": {
    "collapsed": true
   },
   "outputs": [],
   "source": [
    "#get rid of unnecessary titles\n",
    "youTubeTitles = youTubeData.loc[:,[\"title\",\"isPorn\"]]\n",
    "\n",
    "youTubeTitles"
   ]
  },
  {
   "cell_type": "code",
   "execution_count": null,
   "metadata": {
    "collapsed": true
   },
   "outputs": [],
   "source": [
    "#same as above\n",
    "pornData[\"isPorn\"]=pd.Series()\n",
    "pornData=pornData.fillna(1)\n",
    "pornData"
   ]
  },
  {
   "cell_type": "code",
   "execution_count": null,
   "metadata": {
    "collapsed": true
   },
   "outputs": [],
   "source": [
    "#same as above\n",
    "pornTitles= pornData.loc[:,[\"title\",\"isPorn\"]]\n",
    "pornTitles"
   ]
  },
  {
   "cell_type": "code",
   "execution_count": null,
   "metadata": {
    "collapsed": true
   },
   "outputs": [],
   "source": [
    "#merge datasets\n",
    "merged_data = youTubeTitles.append(pornTitles, ignore_index=True)\n",
    "title_matrix= merged_data.loc[:,[\"title\"]]\n",
    "target_array=merged_data.loc[:, [\"isPorn\"]]"
   ]
  },
  {
   "cell_type": "markdown",
   "metadata": {},
   "source": [
    "Encode words in titles as integers"
   ]
  },
  {
   "cell_type": "code",
   "execution_count": null,
   "metadata": {
    "collapsed": true
   },
   "outputs": [],
   "source": [
    "#download dictionary of most frequent english words\n",
    "path=\"../myBigData/myPorn\"\n",
    "with open(\"google-10000-english-usa.txt\") as f:\n",
    "    text=f.read()\n",
    "    commonDict = {}\n",
    "    counter=0\n",
    "    for line in f:\n",
    "        commonDict[counter]=line\n",
    "        counter=counter+1\n",
    "print commonDict"
   ]
  },
  {
   "cell_type": "markdown",
   "metadata": {},
   "source": [
    "Building model <br>\n",
    "Link to article I used: https://machinelearningmastery.com/sequence-classification-lstm-recurrent-neural-networks-python-keras/"
   ]
  },
  {
   "cell_type": "code",
   "execution_count": null,
   "metadata": {
    "collapsed": true
   },
   "outputs": [],
   "source": [
    "#folding datasets for training\n",
    "from sklearn.model_selection import KFold\n",
    "kf = KFold(n_splits = 10, shuffle=True)\n",
    "kf.get_n_splits(merged_data)\n",
    "print kf"
   ]
  },
  {
   "cell_type": "code",
   "execution_count": null,
   "metadata": {
    "collapsed": true
   },
   "outputs": [],
   "source": [
    "import numpy\n",
    "\n",
    "from keras.models import Sequential\n",
    "from keras.layers import Dense\n",
    "from keras.layers import LSTM\n",
    "from keras.layers.embeddings import Embedding\n",
    "from keras.preprocessing import sequence\n",
    "\n",
    "iteration = 1\n",
    "train = []\n",
    "test = []\n",
    "for train_index, test_index in kf.split(title_matrix):\n",
    "    \n",
    "    #Folding steps\n",
    "    start_train= train_index[0]\n",
    "    end_train=train_index[-1]\n",
    "    start_test=test_index[0]\n",
    "    end_test=test_index[-1]\n",
    "    #print \"TRAIN:\", train_index, \"TEST\", test_index\n",
    "    X_train, X_test = title_matrix.loc[start_train:end_train], title_matrix.loc[start_test:end_test]\n",
    "    y_train, y_test = target_array.loc[start_train:end_train], target_array.loc[start_test:end_test]\n",
    "    print y_train\n",
    "    \n",
    "    \n",
    "    # fix random seed for reproducibility\n",
    "    numpy.random.seed(7)\n",
    "\n",
    "    # create the model\n",
    "    total_length=len(X_train) #this needs to be the length of the dictionary we use to encode the titles\n",
    "    embedding_vecor_length = 32\n",
    "    model = Sequential()\n",
    "    model.add(Embedding(total_length, embedding_vecor_length, input_length=None))\n",
    "    model.add(LSTM(100))\n",
    "    model.add(Dense(1, activation='sigmoid'))\n",
    "    model.compile(loss='binary_crossentropy', optimizer='adam', metrics=['accuracy'])\n",
    "    print(model.summary())\n",
    "    model.fit(X_train, y_train, nb_epoch=3, batch_size=64)\n",
    "\n",
    "    # Final evaluation of the model\n",
    "    scores = model.evaluate(X_test, y_test, verbose=0)\n",
    "    print(\"Accuracy: %.2f%%\" % (scores[1]*100))\n",
    "\n",
    "    \n",
    "    #RNN model above\n",
    "\n",
    "    "
   ]
  }
 ],
 "metadata": {
  "kernelspec": {
   "display_name": "Python 2",
   "language": "python",
   "name": "python2"
  },
  "language_info": {
   "codemirror_mode": {
    "name": "ipython",
    "version": 2
   },
   "file_extension": ".py",
   "mimetype": "text/x-python",
   "name": "python",
   "nbconvert_exporter": "python",
   "pygments_lexer": "ipython2",
   "version": "2.7.14"
  }
 },
 "nbformat": 4,
 "nbformat_minor": 1
}
