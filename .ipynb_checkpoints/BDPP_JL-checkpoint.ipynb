{
 "cells": [
  {
   "cell_type": "code",
   "execution_count": null,
   "metadata": {
    "collapsed": true
   },
   "outputs": [],
   "source": [
    "#import data\n",
    "import pandas as pd\n",
    "youTubeData = pd.read_csv('USvideos.csv', index_col=0)\n",
    "pornData = pd.read_csv('xhamster.csv', index_col=0)\n"
   ]
  },
  {
   "cell_type": "code",
   "execution_count": null,
   "metadata": {
    "collapsed": true
   },
   "outputs": [],
   "source": [
    "youTubeData"
   ]
  },
  {
   "cell_type": "code",
   "execution_count": null,
   "metadata": {
    "collapsed": true
   },
   "outputs": [],
   "source": [
    "#add porn column\n",
    "youTubeData[\"isPorn\"]=pd.Series()\n",
    "youTubeData=youTubeData.fillna(0)\n"
   ]
  },
  {
   "cell_type": "code",
   "execution_count": null,
   "metadata": {
    "collapsed": true
   },
   "outputs": [],
   "source": [
    "#get rid of unnecessary titles\n",
    "youTubeTitles = youTubeData.loc[:,[\"title\",\"isPorn\"]]\n",
    "\n",
    "youTubeTitles"
   ]
  },
  {
   "cell_type": "code",
   "execution_count": null,
   "metadata": {
    "collapsed": true
   },
   "outputs": [],
   "source": [
    "#same as above\n",
    "pornData[\"isPorn\"]=pd.Series()\n",
    "pornData=pornData.fillna(1)\n",
    "pornData"
   ]
  },
  {
   "cell_type": "code",
   "execution_count": null,
   "metadata": {
    "collapsed": true
   },
   "outputs": [],
   "source": [
    "#same as above\n",
    "pornTitles= pornData.loc[:,[\"title\",\"isPorn\"]]\n",
    "pornTitles"
   ]
  },
  {
   "cell_type": "code",
   "execution_count": null,
   "metadata": {
    "collapsed": true
   },
   "outputs": [],
   "source": [
    "#merge datasets\n",
    "merged_data = youTubeTitles.append(pornTitles, ignore_index=True)\n",
    "merged_data"
   ]
  },
  {
   "cell_type": "code",
   "execution_count": null,
   "metadata": {
    "collapsed": true
   },
   "outputs": [],
   "source": [
    "#folding datasets for training\n",
    "from sklearn.model_selection import KFold\n",
    "kf = KFold(n_splits = 10, shuffle=True)\n",
    "kf.get_n_splits(merged_data)\n",
    "print kf"
   ]
  },
  {
   "cell_type": "code",
   "execution_count": null,
   "metadata": {
    "collapsed": true
   },
   "outputs": [],
   "source": [
    "iteration = 1\n",
    "train = []\n",
    "test = []\n",
    "for train_index, test_index in kf.split(merged_data):\n",
    "    #print \"TRAIN:\", train_index, \"TEST\", test_index\n",
    "    X_train, X_test = alliance_matrix[train_index], alliance_matrix[test_index]\n",
    "    y_train, y_test = target_array[train_index], target_array[test_index]\n",
    "    \n",
    "  \n",
    "    new_fit_model=fit_model.fit(X_train, y_train)  # <--- This is the training/fitting/learning step\n",
    "\n",
    "    new_predictions=new_fit_model.predict(X_train)\n",
    "\n",
    "#accuracy of fit model\n",
    "    train_score = new_fit_model.score(X_train, y_train)\n",
    "    test_score = new_fit_model.score(X_test, y_test)\n",
    "    print \"Training accuracy %d:\" % iteration, train_score\n",
    "    print \"Test accuracy %d:\" % iteration, test_score\n",
    "    print \"\"\n",
    "    train.append(train_score)\n",
    "    test.append(test_score)\n",
    "    iteration+=1"
   ]
  }
 ],
 "metadata": {
  "kernelspec": {
   "display_name": "Python 2",
   "language": "python",
   "name": "python2"
  },
  "language_info": {
   "codemirror_mode": {
    "name": "ipython",
    "version": 2
   },
   "file_extension": ".py",
   "mimetype": "text/x-python",
   "name": "python",
   "nbconvert_exporter": "python",
   "pygments_lexer": "ipython2",
   "version": "2.7.14"
  }
 },
 "nbformat": 4,
 "nbformat_minor": 1
}
