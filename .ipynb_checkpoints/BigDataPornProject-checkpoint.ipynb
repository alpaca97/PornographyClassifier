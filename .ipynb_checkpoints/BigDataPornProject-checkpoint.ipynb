{
 "cells": [
  {
   "cell_type": "code",
   "execution_count": 27,
   "metadata": {
    "collapsed": false,
    "scrolled": true
   },
   "outputs": [],
   "source": [
    "# imports \n",
    "import numpy as np\n",
    "import pandas as pd \n",
    "import matplotlib.pyplot as plt\n",
    "%matplotlib inline\n",
    "import os \n",
    "\n",
    "porn_df = pd.read_csv('../data/xhamster.csv') # load Sexualitics raw csv\n",
    "youtube_df = pd.DataFrame() # initialize empty df\n",
    "for filename in os.listdir('../data/youtube'): \n",
    "    if filename != '.DS_Store':\n",
    "        current_df = pd.read_csv('../data/youtube/%s' %filename)\n",
    "        youtube_df = pd.concat([youtube_df,current_df], ignore_index=True)"
   ]
  }
 ],
 "metadata": {
  "kernelspec": {
   "display_name": "Python 3",
   "language": "python",
   "name": "python3"
  },
  "language_info": {
   "codemirror_mode": {
    "name": "ipython",
    "version": 3
   },
   "file_extension": ".py",
   "mimetype": "text/x-python",
   "name": "python",
   "nbconvert_exporter": "python",
   "pygments_lexer": "ipython3",
   "version": "3.5.4"
  }
 },
 "nbformat": 4,
 "nbformat_minor": 1
}
